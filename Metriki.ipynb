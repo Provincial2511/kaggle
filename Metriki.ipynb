{
  "nbformat": 4,
  "nbformat_minor": 0,
  "metadata": {
    "colab": {
      "provenance": []
    },
    "kernelspec": {
      "name": "python3",
      "display_name": "Python 3"
    },
    "language_info": {
      "name": "python"
    }
  },
  "cells": [
    {
      "cell_type": "markdown",
      "source": [
        "Реализуйте функции\n",
        "\n",
        "для подсчета Accuracy\n",
        "\n",
        "\n",
        "для подсчета Матрицы ошибок\n",
        "\n",
        "для подсчета Точности и полноты, F1 score\n",
        "\n",
        "для подсчета и построения ROC-кривой"
      ],
      "metadata": {
        "id": "nap7U4fo_hSP"
      }
    },
    {
      "cell_type": "code",
      "source": [
        "y = [1, 0, 0, 0, 1, 1, 0, 0, 1, 1, 0, 0, 1, 0, 1, 0, 1, 0]\n",
        "\n",
        "y_pred = [1, 0, 1, 0, 1, 0, 0, 0, 1, 1, 0, 1, 1, 0, 1, 0, 1, 0]"
      ],
      "metadata": {
        "id": "N_2BoJFz_s3m"
      },
      "execution_count": null,
      "outputs": []
    },
    {
      "cell_type": "markdown",
      "source": [
        "\n",
        "\n",
        "---\n",
        "\n",
        "\n",
        "*Матрица ошибок*"
      ],
      "metadata": {
        "id": "lEYU1_9mDpex"
      }
    },
    {
      "cell_type": "code",
      "source": [
        "TP, TN, FP, FN = 0, 0, 0, 0\n",
        "\n",
        "for i in range (len(y)):\n",
        "  if y[i] == 1:\n",
        "    if y_pred[i] == 1:\n",
        "      TP+=1\n",
        "    else:\n",
        "      FN+=1\n",
        "  else:\n",
        "    if y_pred[i] == 0:\n",
        "      TN+=1\n",
        "    else:\n",
        "      FP+=1\n",
        "\n",
        "print('Матрица ошибок равна')\n",
        "print(\"True Positive (TP):\", TP)\n",
        "print(\"True Negative (TN):\", TN)\n",
        "print(\"False Positive (FP):\", FP)\n",
        "print(\"False Negative (FN):\", FN)"
      ],
      "metadata": {
        "colab": {
          "base_uri": "https://localhost:8080/"
        },
        "id": "qaLIZOCY__2Y",
        "outputId": "10150b64-ec97-4870-d7a6-b032865a702e"
      },
      "execution_count": null,
      "outputs": [
        {
          "output_type": "stream",
          "name": "stdout",
          "text": [
            "Матрица ошибок равна\n",
            "True Positive (TP): 7\n",
            "True Negative (TN): 8\n",
            "False Positive (FP): 2\n",
            "False Negative (FN): 1\n"
          ]
        }
      ]
    },
    {
      "cell_type": "markdown",
      "source": [
        "\n",
        "\n",
        "---\n",
        "\n",
        "\n",
        "*Accuracy*"
      ],
      "metadata": {
        "id": "KeEKD9GVDssp"
      }
    },
    {
      "cell_type": "code",
      "source": [
        "accuracy = (TP + TN) / (TP + TN + FP + FN)\n",
        "\n",
        "print('Accuracy:', round(accuracy, 3))"
      ],
      "metadata": {
        "colab": {
          "base_uri": "https://localhost:8080/"
        },
        "id": "gaRu-zpLDKXa",
        "outputId": "a8c314cd-9f1a-4db0-cba2-78f7edc0d3ff"
      },
      "execution_count": null,
      "outputs": [
        {
          "output_type": "stream",
          "name": "stdout",
          "text": [
            "Accuracy: 0.833\n"
          ]
        }
      ]
    },
    {
      "cell_type": "markdown",
      "source": [
        "\n",
        "\n",
        "---\n",
        "\n",
        "\n",
        "*Precision, Recall и F-1 мера*"
      ],
      "metadata": {
        "id": "QGU4owueDZ52"
      }
    },
    {
      "cell_type": "code",
      "source": [
        "precision = TP / (TP + FP)\n",
        "\n",
        "recall = TP / (TP + FN)\n",
        "\n",
        "f_score = (2 * precision * recall) / (precision + recall)\n",
        "\n",
        "beta = 1\n",
        "\n",
        "f1_score = ((1 + beta**2) * precision * recall) / (beta**2 * precision + recall)\n",
        "\n",
        "\n",
        "print('Precision:', round(precision, 3))\n",
        "print('recall:', round(recall, 3))\n",
        "print('f_score:', round(f_score, 3))\n",
        "print('f1_score:', round(f1_score, 3))"
      ],
      "metadata": {
        "colab": {
          "base_uri": "https://localhost:8080/"
        },
        "id": "F3PygEwHEDzR",
        "outputId": "d0c82eb2-0f65-4748-ad19-32fa435d158c"
      },
      "execution_count": null,
      "outputs": [
        {
          "output_type": "stream",
          "name": "stdout",
          "text": [
            "Precision: 0.778\n",
            "recall: 0.875\n",
            "f_score: 0.824\n",
            "f1_score: 0.824\n"
          ]
        }
      ]
    },
    {
      "cell_type": "code",
      "source": [
        "from sklearn.metrics import accuracy_score, precision_score, recall_score, f1_score, confusion_matrix\n",
        "\n",
        "\n",
        "print(f'accuracy {accuracy_score(y, y_pred)}')\n",
        "print(f'precision {precision_score(y, y_pred)}')\n",
        "print(f'recall {recall_score(y, y_pred)}')\n",
        "print(f'f-score {f1_score(y, y_pred)}')\n",
        "print(f'\\n {confusion_matrix(y, y_pred)}')"
      ],
      "metadata": {
        "colab": {
          "base_uri": "https://localhost:8080/"
        },
        "id": "h3wPtI3vJ8M0",
        "outputId": "e3e46de5-f6d0-4f8d-bbc9-146d2f3f8ff6"
      },
      "execution_count": null,
      "outputs": [
        {
          "output_type": "stream",
          "name": "stdout",
          "text": [
            "accuracy 0.8333333333333334\n",
            "precision 0.7777777777777778\n",
            "recall 0.875\n",
            "f-score 0.823529411764706\n",
            "\n",
            " [[8 2]\n",
            " [1 7]]\n"
          ]
        }
      ]
    },
    {
      "cell_type": "markdown",
      "source": [
        "\n",
        "\n",
        "---\n",
        "\n",
        "ROC Curve"
      ],
      "metadata": {
        "id": "8SGCAvvtFPgj"
      }
    },
    {
      "cell_type": "code",
      "source": [
        "y = np.array([0, 1, 0, 1, 0, 0, 1, 0, 1, 0])\n",
        "y_proba = np.array([0.6, 0.23, 0.81, 0.54, 0.2, 0.9, 0.65, 0.1, 0.85, 0.55])\n"
      ],
      "metadata": {
        "id": "bdpSUTroKqJH"
      },
      "execution_count": null,
      "outputs": []
    },
    {
      "cell_type": "code",
      "source": [
        "TPR = []\n",
        "FPR = []\n",
        "\n",
        "total_positives = sum(y)\n",
        "total_negatives = len(y) - total_positives\n",
        "\n",
        "TP = 0\n",
        "FP = 0\n",
        "\n",
        "for i in range(len(y_proba)):\n",
        "    if y[i] == 1:\n",
        "        TP += 1\n",
        "    else:\n",
        "        FP += 1\n",
        "\n",
        "    TPR.append(TP / total_positives)\n",
        "    FPR.append(FP / total_negatives)\n",
        "\n",
        "plt.plot(FPR, TPR)\n",
        "plt.xlabel('False Positive Rate')\n",
        "plt.ylabel('True Positive Rate')\n",
        "plt.title('ROC Curve')\n",
        "plt.show()\n"
      ],
      "metadata": {
        "colab": {
          "base_uri": "https://localhost:8080/",
          "height": 472
        },
        "id": "59sQRrE_UjNr",
        "outputId": "60603f79-4042-47a8-898d-d369889c5f24"
      },
      "execution_count": null,
      "outputs": [
        {
          "output_type": "display_data",
          "data": {
            "text/plain": [
              "<Figure size 640x480 with 1 Axes>"
            ],
            "image/png": "[encoded data removed]"
          },
          "metadata": {}
        }
      ]
    },
    {
      "cell_type": "code",
      "source": [
        "from sklearn.metrics import roc_curve\n",
        "\n",
        "fpr, tpr, th = roc_curve(y, y_proba)\n",
        "\n",
        "plt.plot(fpr, tpr)\n",
        "plt.xlabel('False Positive Rate')\n",
        "plt.ylabel('True Positive Rate')\n",
        "plt.title('ROC Curve')\n",
        "plt.show()"
      ],
      "metadata": {
        "colab": {
          "base_uri": "https://localhost:8080/",
          "height": 472
        },
        "id": "sqzHuCf9RFu8",
        "outputId": "cdc58fc9-d33e-4809-da2d-9bf36cbcacf4"
      },
      "execution_count": null,
      "outputs": [
        {
          "output_type": "display_data",
          "data": {
            "text/plain": [
              "<Figure size 640x480 with 1 Axes>"
            ],
            "image/png": "[encoded data removed]"
          },
          "metadata": {}
        }
      ]
    },
    {
      "cell_type": "code",
      "source": [],
      "metadata": {
        "id": "5gsvTHBIZXCz"
      },
      "execution_count": null,
      "outputs": []
    }
  ]
}